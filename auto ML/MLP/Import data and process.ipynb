{
 "cells": [
  {
   "cell_type": "code",
   "execution_count": 1,
   "id": "ad3b56b5-a31f-43f9-8292-5823047c3f83",
   "metadata": {},
   "outputs": [
    {
     "name": "stdout",
     "output_type": "stream",
     "text": [
      "     Ce   Ca    T  GR  Alo  Alt  Mo   La  length  Diameter\n",
      "0  0.01  1.0  825  10   15  2.5   0  0.0   14.17      1.12\n",
      "1  0.03  1.0  825  10   15  2.5   0  0.0   16.22      0.95\n",
      "2  0.07  1.0  825  10   15  2.5   0  0.0   19.99      1.16\n",
      "3  0.60  1.0  825  10   15  2.5   0  0.0   18.03      1.11\n",
      "4  0.70  1.0  825  10   15  2.5   0  0.0   12.83      0.98\n",
      "数据集划分和标准化完成。标准化器已保存。\n",
      "标准化后的数据已导出至CSV文件。\n"
     ]
    }
   ],
   "source": [
    "# 导入原始数据\n",
    "import pandas as pd\n",
    "\n",
    "# 读取 CSV 文件\n",
    "data = pd.read_csv('train data.csv')\n",
    "\n",
    "# 显示数据的前5行，以便检查是否正确导入\n",
    "print(data.head())\n",
    "\n",
    "from sklearn.model_selection import train_test_split\n",
    "from sklearn.preprocessing import StandardScaler\n",
    "\n",
    "# 分割特征和目标变量\n",
    "features = data.iloc[:, :8]  # 前8列作为特征\n",
    "targets = data.iloc[:, 8:]    # 后3列作为目标变量\n",
    "\n",
    "# 数据集划分\n",
    "X_train, X_test, y_train, y_test = train_test_split(features, targets, test_size=0.2, random_state=42)\n",
    "\n",
    "# 初始化标准化器\n",
    "scaler = StandardScaler()\n",
    "\n",
    "# 使用训练集的数据进行标准化\n",
    "X_train_scaled = scaler.fit_transform(X_train)\n",
    "# 对测试集应用相同的转换\n",
    "X_test_scaled = scaler.transform(X_test)\n",
    "\n",
    "# 保存标准化器，以便在预测新数据时使用\n",
    "import joblib\n",
    "joblib.dump(scaler, 'scaler.pkl')  # 保存到scaler.pkl文件中\n",
    "\n",
    "print(\"数据集划分和标准化完成。标准化器已保存。\")\n",
    "\n",
    "# 如果需要，也可以将标准化后的数据导出为新的CSV文件\n",
    "# 转换为 float64\n",
    "X_train_scaled_df = pd.DataFrame(X_train_scaled, columns=features.columns, dtype='float64')\n",
    "X_test_scaled_df = pd.DataFrame(X_test_scaled, columns=features.columns, dtype='float64')\n",
    "\n",
    "# 将 y_train 和 y_test 也转换为 float64\n",
    "y_train_df = pd.DataFrame(y_train, dtype='float64')\n",
    "y_test_df = pd.DataFrame(y_test, dtype='float64')\n",
    "\n",
    "# 导出为 CSV 文件\n",
    "X_train_scaled_df.to_csv('X_train_scaled.csv', index=False)\n",
    "X_test_scaled_df.to_csv('X_test_scaled.csv', index=False)\n",
    "y_train_df.to_csv('y_train.csv', index=False)\n",
    "y_test_df.to_csv('y_test.csv', index=False)\n",
    "\n",
    "print(\"标准化后的数据已导出至CSV文件。\")"
   ]
  },
  {
   "cell_type": "code",
   "execution_count": null,
   "id": "96f27655-2a0f-4c3f-bcfb-95fe93c25bf8",
   "metadata": {},
   "outputs": [],
   "source": []
  }
 ],
 "metadata": {
  "kernelspec": {
   "display_name": "Python 3 (ipykernel)",
   "language": "python",
   "name": "python3"
  },
  "language_info": {
   "codemirror_mode": {
    "name": "ipython",
    "version": 3
   },
   "file_extension": ".py",
   "mimetype": "text/x-python",
   "name": "python",
   "nbconvert_exporter": "python",
   "pygments_lexer": "ipython3",
   "version": "3.12.4"
  }
 },
 "nbformat": 4,
 "nbformat_minor": 5
}
