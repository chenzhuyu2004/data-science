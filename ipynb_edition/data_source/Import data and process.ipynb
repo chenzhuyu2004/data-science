{
 "cells": [
  {
   "cell_type": "code",
   "execution_count": null,
   "id": "initial_id",
   "metadata": {
    "collapsed": true
   },
   "outputs": [],
   "source": [
    "# 导入所需库\n",
    "import os\n",
    "import pandas as pd\n",
    "from sklearn.model_selection import train_test_split\n",
    "from sklearn.preprocessing import StandardScaler\n",
    "import joblib\n",
    "\n",
    "# 定义文件路径\n",
    "base_dir = os.getcwd()  # 获取当前工作目录\n",
    "data_path = os.path.join(base_dir, 'Data_Source_Module', 'train data.csv')\n",
    "scaler_path = os.path.join(base_dir, 'Data_Source_Module', 'scaler.pkl')\n",
    "scaled_train_path = os.path.join(base_dir, 'Data_Source_Module', 'X_train_scaled.csv')\n",
    "scaled_test_path = os.path.join(base_dir, 'Data_Source_Module', 'X_test_scaled.csv')\n",
    "y_train_path = os.path.join(base_dir, 'Data_Source_Module', 'y_train.csv')\n",
    "y_test_path = os.path.join(base_dir, 'Data_Source_Module', 'y_test.csv')\n",
    "\n",
    "# 读取数据集\n",
    "data = pd.read_csv(data_path)\n",
    "\n",
    "# 显示数据前5行，以便检查是否正确导入\n",
    "print(\"数据预览：\")\n",
    "print(data.head())\n",
    "\n",
    "# 分割特征和目标变量\n",
    "features = data.iloc[:, :8]  # 前8列作为特征\n",
    "targets = data.iloc[:, 8:]    # 后3列作为目标变量\n",
    "\n",
    "# 划分数据集为训练集和测试集\n",
    "X_train, X_test, y_train, y_test = train_test_split(features, targets, test_size=0.2, random_state=42)\n",
    "\n",
    "# 初始化标准化器\n",
    "scaler = StandardScaler()\n",
    "\n",
    "# 对训练集进行标准化，并对测试集应用相同的转换\n",
    "X_train_scaled = scaler.fit_transform(X_train)\n",
    "X_test_scaled = scaler.transform(X_test)\n",
    "\n",
    "# 保存标准化器，以便在预测新数据时使用\n",
    "joblib.dump(scaler, scaler_path)\n",
    "\n",
    "print(\"数据集划分和标准化完成。标准化器已保存。\")\n",
    "\n",
    "# 将标准化后的数据转换为 DataFrame\n",
    "X_train_scaled_df = pd.DataFrame(X_train_scaled, columns=features.columns, dtype='float64')\n",
    "X_test_scaled_df = pd.DataFrame(X_test_scaled, columns=features.columns, dtype='float64')\n",
    "\n",
    "# 将目标变量转换为 DataFrame\n",
    "y_train_df = pd.DataFrame(y_train.values, columns=targets.columns, dtype='float64')\n",
    "y_test_df = pd.DataFrame(y_test.values, columns=targets.columns, dtype='float64')\n",
    "\n",
    "# 导出标准化后的数据为 CSV 文件\n",
    "X_train_scaled_df.to_csv(scaled_train_path, index=False)\n",
    "X_test_scaled_df.to_csv(scaled_test_path, index=False)\n",
    "y_train_df.to_csv(y_train_path, index=False)\n",
    "y_test_df.to_csv(y_test_path, index=False)\n",
    "\n",
    "print(\"标准化后的数据已导出至CSV文件。\")\n"
   ]
  }
 ],
 "metadata": {
  "kernelspec": {
   "display_name": "Python 3",
   "language": "python",
   "name": "python3"
  },
  "language_info": {
   "codemirror_mode": {
    "name": "ipython",
    "version": 2
   },
   "file_extension": ".py",
   "mimetype": "text/x-python",
   "name": "python",
   "nbconvert_exporter": "python",
   "pygments_lexer": "ipython2",
   "version": "2.7.6"
  }
 },
 "nbformat": 4,
 "nbformat_minor": 5
}
